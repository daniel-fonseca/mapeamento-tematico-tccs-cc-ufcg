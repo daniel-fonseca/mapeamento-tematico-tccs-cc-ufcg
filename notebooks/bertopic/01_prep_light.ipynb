{
 "cells": [
  {
   "cell_type": "code",
   "execution_count": null,
   "id": "7d7f6862",
   "metadata": {},
   "outputs": [
    {
     "name": "stdout",
     "output_type": "stream",
     "text": [
      "[2025-08-27 16:13:22.887785] BASE=C:\\Users\\User\\Desktop\\TCC\\Notebooks locais\\analise_topicos_tcc\\data\n",
      "IN_CSV=C:\\Users\\User\\Desktop\\TCC\\Notebooks locais\\analise_topicos_tcc\\data\\raw\\tccs.csv\n",
      "OUT_CSV=C:\\Users\\User\\Desktop\\TCC\\Notebooks locais\\analise_topicos_tcc\\data\\interim\\bertopic\\prep.csv\n"
     ]
    }
   ],
   "source": [
    "# Imports e paths\n",
    "\n",
    "from pathlib import Path\n",
    "import re\n",
    "import pandas as pd\n",
    "import numpy as np\n",
    "from datetime import datetime\n",
    "import random\n",
    "import os\n",
    "\n",
    "# Paths relativos ao local deste notebook: notebooks/bertopic/01_prep_light.ipynb\n",
    "BASE = Path(\"../../data\")\n",
    "RAW = BASE / \"raw\"\n",
    "OUT_DIR = BASE / \"interim\" / \"bertopic\"\n",
    "IN_CSV = RAW / \"tccs.csv\"\n",
    "OUT_CSV = OUT_DIR / \"prep.csv\"\n",
    "\n",
    "# Reprodutibilidade\n",
    "SEED = 42\n",
    "random.seed(SEED)\n",
    "np.random.seed(SEED)\n",
    "\n",
    "# Garantir diretório de saída\n",
    "OUT_DIR.mkdir(parents=True, exist_ok=True)\n",
    "\n",
    "print(f\"[{datetime.now()}] BASE={BASE.resolve()}\")\n",
    "print(f\"IN_CSV={IN_CSV.resolve()}\")\n",
    "print(f\"OUT_CSV={OUT_CSV.resolve()}\")"
   ]
  },
  {
   "cell_type": "code",
   "execution_count": null,
   "id": "b21cbc32",
   "metadata": {},
   "outputs": [],
   "source": [
    "# Leitura e chaves\n",
    "\n",
    "# Leitura\n",
    "df = pd.read_csv(IN_CSV, encoding=\"utf-8\")\n",
    "\n",
    "# Validações mínimas\n",
    "assert \"resumo\" in df.columns, \"A coluna 'resumo' não foi encontrada em data/raw/tccs.csv\"\n",
    "\n",
    "# Garante DOC_ID sequencial se não existir\n",
    "if \"DOC_ID\" not in df.columns:\n",
    "    df.insert(0, \"DOC_ID\", range(len(df)))\n",
    "\n",
    "# Snapshot inicial\n",
    "print(f\"Shape: {df.shape}\")\n",
    "print(\"Colunas:\", list(df.columns)[:10], \"...\")\n",
    "display(df.head(3))"
   ]
  },
  {
   "cell_type": "code",
   "execution_count": null,
   "id": "2c6f7849",
   "metadata": {},
   "outputs": [],
   "source": [
    "# Função clean_text_light\n",
    "\n",
    "# Compilações de regex (URLs, e-mails, números isolados)\n",
    "RE_URL = re.compile(r\"https?://\\S+|www\\.\\S+\", flags=re.IGNORECASE)\n",
    "RE_EMAIL = re.compile(r\"\\b\\S+@\\S+\\b\", flags=re.IGNORECASE)\n",
    "RE_NUM_ISOLATED = re.compile(r\"\\b\\d+\\b\")\n",
    "RE_SPACES = re.compile(r\"\\s+\")\n",
    "\n",
    "def clean_text_light(s: str) -> str:\n",
    "    \"\"\"\n",
    "    Pré-processamento leve para BERTopic:\n",
    "      - lower() mantendo acentos;\n",
    "      - remove URLs e e-mails;\n",
    "      - remove números isolados (não remove tokens alfanuméricos);\n",
    "      - normaliza espaços;\n",
    "      - NÃO remove stopwords aqui; NÃO lematiza; NÃO aplica unidecode;\n",
    "      - mantém pontuação/acentos (útil ao modelo multilíngue).\n",
    "    \"\"\"\n",
    "    s = s.lower()\n",
    "    s = RE_URL.sub(\" \", s)\n",
    "    s = RE_EMAIL.sub(\" \", s)\n",
    "    s = RE_NUM_ISOLATED.sub(\" \", s)\n",
    "    s = RE_SPACES.sub(\" \", s).strip()\n",
    "    return s"
   ]
  },
  {
   "cell_type": "code",
   "execution_count": null,
   "id": "48ca5a76",
   "metadata": {},
   "outputs": [],
   "source": [
    "# Aplicação e diagnósticos\n",
    "\n",
    "# Garante dtype string e trata NaN\n",
    "orig_resumo = df[\"resumo\"].copy()\n",
    "df[\"RESUMO_PREP_BERTOPIC\"] = (\n",
    "    df[\"resumo\"].fillna(\"\").astype(str).map(clean_text_light)\n",
    ")\n",
    "\n",
    "# Diagnósticos simples (não filtrantes)\n",
    "n_total = len(df)\n",
    "n_vazios_antes = (orig_resumo.fillna(\"\").astype(str).str.strip() == \"\").sum()\n",
    "n_vazios_depois = (df[\"RESUMO_PREP_BERTOPIC\"].str.strip() == \"\").sum()\n",
    "\n",
    "print(f\"Documentos totais: {n_total}\")\n",
    "print(f\"Resumos vazios (antes): {n_vazios_antes}\")\n",
    "print(f\"Resumos vazios (depois): {n_vazios_depois}\")\n",
    "\n",
    "# Pequeno check de mudanças (amostra)\n",
    "sample_idx = df.index[:3].tolist()\n",
    "for i in sample_idx:\n",
    "    print(\"\\n--- DOC_ID\", df.loc[i, \"DOC_ID\"], \"---\")\n",
    "    print(\"[ANTES]\", str(orig_resumo.loc[i])[:300])\n",
    "    print(\"[DEPOIS]\", df.loc[i, \"RESUMO_PREP_BERTOPIC\"][:300])"
   ]
  },
  {
   "cell_type": "code",
   "execution_count": null,
   "id": "384275e8",
   "metadata": {},
   "outputs": [],
   "source": [
    "# Salvar e sumário\n",
    "\n",
    "# Grava o CSV completo (mesmo schema + RESUMO_PREP_BERTOPIC)\n",
    "df.to_csv(OUT_CSV, index=False, encoding=\"utf-8\")\n",
    "\n",
    "# Confirmação\n",
    "ok_col = \"RESUMO_PREP_BERTOPIC\" in df.columns\n",
    "print(\"\\n======== RESUMO ========\")\n",
    "print(f\"Arquivo salvo em: {OUT_CSV.resolve()}\")\n",
    "print(f\"Linhas: {len(df)}  |  Coluna RESUMO_PREP_BERTOPIC presente? {ok_col}\")\n",
    "print(\"Primeiros campos:\", list(df.columns)[:12], \"...\")\n",
    "display(df[[\"DOC_ID\", \"RESUMO_PREP_BERTOPIC\"]].head(5))\n"
   ]
  }
 ],
 "metadata": {
  "kernelspec": {
   "display_name": "Python (bertopic)",
   "language": "python",
   "name": "bertopic"
  },
  "language_info": {
   "codemirror_mode": {
    "name": "ipython",
    "version": 3
   },
   "file_extension": ".py",
   "mimetype": "text/x-python",
   "name": "python",
   "nbconvert_exporter": "python",
   "pygments_lexer": "ipython3",
   "version": "3.12.2"
  }
 },
 "nbformat": 4,
 "nbformat_minor": 5
}
