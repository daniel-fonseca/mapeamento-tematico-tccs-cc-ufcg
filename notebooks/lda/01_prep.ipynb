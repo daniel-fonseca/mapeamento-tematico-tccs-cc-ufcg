{
 "cells": [
  {
   "cell_type": "markdown",
   "id": "fe62a27e",
   "metadata": {},
   "source": [
    "Importação das libs e carregamento do dataset"
   ]
  }
 ],
 "metadata": {
  "kernelspec": {
   "display_name": "Python (lda)",
   "language": "python",
   "name": "lda"
  },
  "language_info": {
   "codemirror_mode": {
    "name": "ipython",
    "version": 3
   },
   "file_extension": ".py",
   "mimetype": "text/x-python",
   "name": "python",
   "nbconvert_exporter": "python",
   "pygments_lexer": "ipython3",
   "version": "3.11.9"
  }
 },
 "nbformat": 4,
 "nbformat_minor": 5
}
